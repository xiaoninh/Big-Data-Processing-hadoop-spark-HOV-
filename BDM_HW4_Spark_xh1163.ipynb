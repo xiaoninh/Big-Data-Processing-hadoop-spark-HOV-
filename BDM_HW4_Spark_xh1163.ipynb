{
 "cells": [
  {
   "cell_type": "markdown",
   "metadata": {},
   "source": [
    "# Homework 4 - Spark\n",
    "\n",
    "In this homework, we are practicing Apache Spark.\n",
    "\n",
    "You are required to turn in this notebook as BDM\\_HW4\\_Spark\\_**NetId**.ipynb. You will be asked to complete each task using Apache Spark. Output can be printed in the notebook."
   ]
  },
  {
   "cell_type": "markdown",
   "metadata": {},
   "source": [
    "## Task 1 (5 points)\n",
    "\n",
    "You are asked to implement Homework 3 using Spark. The description is provided below for your convenience.\n",
    "\n",
    "You are asked to implement the Social Triangle example discussed in class. In particular, given the email dataset, please list all \"reciprocal\" relationships in the company. Recall that:\n",
    "\n",
    "If A emails B and B emails A, then A and B is *reciprocal*.\n",
    "\n",
    "If A emails B but B doesn’t email A, then A and B is *directed*.\n",
    "\n",
    "**Dataset:** We will use a subset of the open [Enron Email Dataset](https://www.cs.cmu.edu/~./enron/ \"Enron Email Dataset\"), which contains approximately 10,000 simplified email headers from the Enron Corporation. You can download this dataset from NYU Classes as **enron_mails_small.csv**. The file contains 3 columns *Date*, *From*, and *To*. Their description is as follows:\n",
    "\n",
    "|Column name|Description|\n",
    "|--|--|\n",
    "|Date |The date and time of the email, in the format YYYY-MM-DD hh-mm-ss, <br />e.g. \"1998-10-30 07:43:00\" |\n",
    "|From |The sender email address, <br />e.g. \"mark.taylor@enron.com\" |\n",
    "|To | A list of recipients' email addresses separated by semicolons ';', <br />e.g. \"jennifer.fraser@enron.com;jeffrey.hodge@enron.com\" |\n",
    "\n",
    "Note that, we only care about users employed by Enron, or only relationships having email addresses that end with *'@enron.com'*.\n",
    "\n",
    "The expected output is also provided below. For each reciprocal relationship, please output a tuple consisting of two strings. The first one is always **'reciprocal'**. And the second one is a string showing the name of the two person in the following format: **'Jane Doe : John Doe'**. The names should be presented in the lexical order, i.e. there will not be a 'John Doe : Jane Doe' since 'Jane' is ordered before 'John.\n",
    "\n",
    "Though the dataset only contains email addresses, not actual names, we're assuming that the email aliases were created based on their name. For example:\n",
    "\n",
    "|Email Address|Converted Name|\n",
    "|--|--|\n",
    "|mark.taylor@enron.com|Mark Taylor|\n",
    "|alan.aronowitz@enron.com|Alan Aronowitz|\n",
    "|marc.r.cutler@enron.com|Marc R Cutler|\n",
    "|hugh@enron.com|Hugh|\n",
    "\n",
    "Please fill the code block with a series of MapReduce jobs using your own mapper and reducer functions. Be sure to include the naming convention logic into one of your mappers and/or reducers."
   ]
  },
  {
   "cell_type": "code",
   "execution_count": 1,
   "metadata": {},
   "outputs": [
    {
     "data": {
      "text/plain": [
       "[(0, 'Date'), (1, 'From'), (2, 'To')]"
      ]
     },
     "execution_count": 1,
     "metadata": {},
     "output_type": "execute_result"
    }
   ],
   "source": [
    "Emails = \"enron_mails_small.csv\"\n",
    "emails = sc.textFile(Emails).cache()\n",
    "list(enumerate(emails .first().split(',')))"
   ]
  },
  {
   "cell_type": "code",
   "execution_count": 2,
   "metadata": {},
   "outputs": [],
   "source": [
    "def pairs(partitionId,rows):\n",
    "    if partitionId ==0:\n",
    "        next(rows)\n",
    "    import csv\n",
    "    reader = csv.reader(rows)\n",
    "    for row in reader:\n",
    "        sender = row[1]\n",
    "        if sender.endswith('@enron.com'):\n",
    "            for recipient in row[2].split(';'):\n",
    "                if recipient.endswith('@enron.com'):\n",
    "                    if sender<recipient:\n",
    "                        print(sender, recipient)\n",
    "                        yield ((sender, recipient), 0)\n",
    "                    else:\n",
    "                        yield ((recipient, sender), 1)\n",
    "\n",
    "def formatName(email):\n",
    "    return email.split('@')[0].replace('.', ' ').title()\n",
    "\n",
    "email_pairs = emails.mapPartitionsWithIndex(pairs)"
   ]
  },
  {
   "cell_type": "code",
   "execution_count": 3,
   "metadata": {},
   "outputs": [
    {
     "name": "stdout",
     "output_type": "stream",
     "text": [
      "35\n"
     ]
    },
    {
     "data": {
      "text/plain": [
       "[('reciprocal', 'Brenda Whitehead : Elizabeth Sager'),\n",
       " ('reciprocal', 'Carol Clair : Debra Perlingiere'),\n",
       " ('reciprocal', 'Carol Clair : Mark Taylor'),\n",
       " ('reciprocal', 'Carol Clair : Richard Sanders'),\n",
       " ('reciprocal', 'Carol Clair : Sara Shackleton'),\n",
       " ('reciprocal', 'Carol Clair : Tana Jones'),\n",
       " ('reciprocal', 'Debra Perlingiere : Kevin Ruscitti'),\n",
       " ('reciprocal', 'Drew Fossum : Susan Scott'),\n",
       " ('reciprocal', 'Elizabeth Sager : Janette Elbertson'),\n",
       " ('reciprocal', 'Elizabeth Sager : Mark Haedicke'),\n",
       " ('reciprocal', 'Elizabeth Sager : Mark Taylor'),\n",
       " ('reciprocal', 'Elizabeth Sager : Richard Sanders'),\n",
       " ('reciprocal', 'Eric Bass : Susan Scott'),\n",
       " ('reciprocal', 'Fletcher Sturm : Greg Whalley'),\n",
       " ('reciprocal', 'Fletcher Sturm : Sally Beck'),\n",
       " ('reciprocal', 'Gerald Nemec : Susan Scott'),\n",
       " ('reciprocal', 'Grant Masson : Vince Kaminski'),\n",
       " ('reciprocal', 'Greg Whalley : Richard Sanders'),\n",
       " ('reciprocal', 'Janette Elbertson : Mark Taylor'),\n",
       " ('reciprocal', 'Janette Elbertson : Richard Sanders'),\n",
       " ('reciprocal', 'Liz Taylor : Mark Haedicke'),\n",
       " ('reciprocal', 'Mark Haedicke : Mark Taylor'),\n",
       " ('reciprocal', 'Mark Haedicke : Michelle Cash'),\n",
       " ('reciprocal', 'Mark Haedicke : Richard Sanders'),\n",
       " ('reciprocal', 'Mark Haedicke : Twanda Sweet'),\n",
       " ('reciprocal', 'Mark Taylor : Sara Shackleton'),\n",
       " ('reciprocal', 'Mark Taylor : Tana Jones'),\n",
       " ('reciprocal', 'Michelle Cash : Twanda Sweet'),\n",
       " ('reciprocal', 'Pinnamaneni Krishnarao : Vince Kaminski'),\n",
       " ('reciprocal', 'Richard Sanders : Sara Shackleton'),\n",
       " ('reciprocal', 'Rosalee Fleming : Steven Kean'),\n",
       " ('reciprocal', 'Sara Shackleton : Tana Jones'),\n",
       " ('reciprocal', 'Shirley Crenshaw : Vince Kaminski'),\n",
       " ('reciprocal', 'Stinson Gibner : Vince Kaminski'),\n",
       " ('reciprocal', 'Vasant Shanbhogue : Vince Kaminski')]"
      ]
     },
     "execution_count": 3,
     "metadata": {},
     "output_type": "execute_result"
    }
   ],
   "source": [
    "output = email_pairs\\\n",
    "    .map(lambda x : (x[0],[x[1]]))\\\n",
    "    .reduceByKey(lambda x,y : x+y)\\\n",
    "    .filter(lambda x:len(set(x[1]))==2)\\\n",
    "    .map(lambda x:('reciprocal',formatName(x[0][0])+\" : \"+formatName(x[0][1])))\n",
    "\n",
    "print(output.count())\n",
    "output = sorted(output.collect())\n",
    "output"
   ]
  },
  {
   "cell_type": "markdown",
   "metadata": {},
   "source": [
    "## Task 2 (5 points)\n",
    "\n",
    "You are asked to implement Task 2 of Lab 5. The description is provided below for your convenience.\n",
    "\n",
    "We’ll be using two NYC open data sets: the SAT Results and the NYC High School Directory data sets. Both can be downloaded from the links below, or from online class resources.\n",
    "\n",
    "**Dataset**: *Please note that each school is uniquely identified by an DBN code, which should be found on both data sets.*\n",
    "\n",
    "**SAT_Results.csv**\n",
    "Source: https://nycopendata.socrata.com/Education/SAT-Results/f9bf-2cp4  \n",
    "Description: “The most recent school level results for New York City on the SAT. Results are available at the school level for the graduating seniors of 2012.”\n",
    "\n",
    "**DOE_High_School_Directory_2014-2015.csv**\n",
    "Source: https://data.cityofnewyork.us/Education/DOE-High-School-Directory-2014-2015/n3p6-zve2  \n",
    "Description: “Directory of NYC High Schools.”\n",
    "\n",
    "We would like to know how the Math scores vary across bus lines or subway lines serving the schools. Your task is to compute the average Math scores of all schools along each bus line and subway line. You can find the bus and subway lines serving each school in the High School Dictionary as bus and subway columns.\n",
    "\n",
    "The expected results are two lists:\n",
    "1. A list of key/value pairs: with bus line as keys, and the average Math scores as values.\n",
    "2. A list of key/value pairs: with subway line as keys, and the average Math scores as values.\n",
    "\n",
    "The top ten lines with highest score are shown below."
   ]
  },
  {
   "cell_type": "code",
   "execution_count": 4,
   "metadata": {},
   "outputs": [],
   "source": [
    "SAT_FN = \"SAT_Results.csv\"\n",
    "HSD_FN = \"DOE_High_School_Directory_2014-2015.csv\"\n",
    "sat = sc.textFile(SAT_FN).cache()\n",
    "schools = sc.textFile(HSD_FN).cache()"
   ]
  },
  {
   "cell_type": "code",
   "execution_count": 5,
   "metadata": {},
   "outputs": [
    {
     "data": {
      "text/plain": [
       "[('02M047', (400, 16)),\n",
       " ('21K410', (437, 475)),\n",
       " ('30Q301', (440, 98)),\n",
       " ('17K382', (374, 59)),\n",
       " ('18K637', (381, 35))]"
      ]
     },
     "execution_count": 5,
     "metadata": {},
     "output_type": "execute_result"
    }
   ],
   "source": [
    "def extractScores(partitionId,rows):\n",
    "    if partitionId ==0:\n",
    "        next(rows)\n",
    "    import csv\n",
    "    reader = csv.reader(rows)\n",
    "    for fields in reader:\n",
    "        if fields[4]!=\"s\" and fields[2]!=\"s\":\n",
    "            yield (fields[0],(int(fields[4]),int(fields[2])))\n",
    "satScores = sat.mapPartitionsWithIndex(extractScores)\n",
    "satScores.take(5)"
   ]
  },
  {
   "cell_type": "code",
   "execution_count": 6,
   "metadata": {},
   "outputs": [
    {
     "data": {
      "text/plain": [
       "[('01M292', 'B39'),\n",
       " ('01M292', 'M14A'),\n",
       " ('01M292', 'M14D'),\n",
       " ('01M292', 'M15'),\n",
       " ('01M292', 'M15-SBS')]"
      ]
     },
     "execution_count": 6,
     "metadata": {},
     "output_type": "execute_result"
    }
   ],
   "source": [
    "def extractSchools_bus(partitionId,rows):\n",
    "    if partitionId ==0:\n",
    "        next(rows)\n",
    "    import csv\n",
    "    reader = csv.reader(rows)\n",
    "    for fields in reader:\n",
    "        if len(fields) == 58 and fields[17].isdigit():\n",
    "            total_student = int(fields[17])\n",
    "            for bus in fields[10].split(','):\n",
    "                yield(fields[0],bus.strip())\n",
    "    \n",
    "Schools_bus = schools.mapPartitionsWithIndex(extractSchools_bus)\n",
    "Schools_bus.take(5)"
   ]
  },
  {
   "cell_type": "code",
   "execution_count": 7,
   "metadata": {},
   "outputs": [
    {
     "data": {
      "text/plain": [
       "[('01M292', 'B'),\n",
       " ('01M292', 'D'),\n",
       " ('01M292', 'F'),\n",
       " ('01M292', 'J'),\n",
       " ('01M292', 'M')]"
      ]
     },
     "execution_count": 7,
     "metadata": {},
     "output_type": "execute_result"
    }
   ],
   "source": [
    "def extractSchools_subway(partitionId,rows):\n",
    "    if partitionId ==0:\n",
    "        next(rows)\n",
    "    import csv\n",
    "    reader = csv.reader(rows)\n",
    "    for fields in reader:\n",
    "        if len(fields) == 58 and fields[17].isdigit():\n",
    "            total_student = int(fields[17])\n",
    "            for subways in fields[11].split(';'):\n",
    "                for lines in subways.split(','):\n",
    "                    if lines != \"N/A\":\n",
    "                        lines = lines.strip()\n",
    "                        yield(fields[0],lines[0])\n",
    "    \n",
    "Schools_subway = schools.mapPartitionsWithIndex(extractSchools_subway)\n",
    "Schools_subway.take(5)"
   ]
  },
  {
   "cell_type": "code",
   "execution_count": 8,
   "metadata": {},
   "outputs": [
    {
     "name": "stdout",
     "output_type": "stream",
     "text": [
      "Bus Line:\n"
     ]
    },
    {
     "data": {
      "text/plain": [
       "[('S1115', 612),\n",
       " ('M79', 594),\n",
       " ('Q42', 582),\n",
       " ('M22', 574),\n",
       " ('Bx3', 571),\n",
       " ('B52', 560),\n",
       " ('B63', 557),\n",
       " ('B69', 548),\n",
       " ('B54', 543),\n",
       " ('B25', 541)]"
      ]
     },
     "execution_count": 8,
     "metadata": {},
     "output_type": "execute_result"
    }
   ],
   "source": [
    "bus_line = Schools_bus.join(satScores).values() \\\n",
    "    .mapValues(lambda x :(x[0]*x[1],x[1]))\\\n",
    "    .reduceByKey(lambda x,y :(x[0]+y[0],x[1]+y[1])) \\\n",
    "    .mapValues(lambda x: int(x[0]/x[1]))\n",
    "print(\"Bus Line:\")\n",
    "bus_line.sortBy(lambda x: -x[1]).take(10)"
   ]
  },
  {
   "cell_type": "code",
   "execution_count": 9,
   "metadata": {},
   "outputs": [
    {
     "name": "stdout",
     "output_type": "stream",
     "text": [
      "Subway Line:\n"
     ]
    },
    {
     "data": {
      "text/plain": [
       "[('3', 513),\n",
       " ('A', 510),\n",
       " ('C', 510),\n",
       " ('R', 508),\n",
       " ('G', 503),\n",
       " ('D', 502),\n",
       " ('E', 501),\n",
       " ('1', 499),\n",
       " ('4', 495),\n",
       " ('N', 493)]"
      ]
     },
     "execution_count": 9,
     "metadata": {},
     "output_type": "execute_result"
    }
   ],
   "source": [
    "subway_line = Schools_subway.join(satScores).values() \\\n",
    "    .mapValues(lambda x :(x[0]*x[1],x[1]))\\\n",
    "    .reduceByKey(lambda x,y :(x[0]+y[0],x[1]+y[1])) \\\n",
    "    .mapValues(lambda x: int(x[0]/x[1]))\n",
    "print(\"Subway Line:\")\n",
    "subway_line.sortBy(lambda x: -x[1]).take(10)"
   ]
  }
 ],
 "metadata": {
  "kernelspec": {
   "display_name": "Python 3",
   "language": "python",
   "name": "python3"
  },
  "language_info": {
   "codemirror_mode": {
    "name": "ipython",
    "version": 3
   },
   "file_extension": ".py",
   "mimetype": "text/x-python",
   "name": "python",
   "nbconvert_exporter": "python",
   "pygments_lexer": "ipython3",
   "version": "3.7.1"
  }
 },
 "nbformat": 4,
 "nbformat_minor": 1
}
