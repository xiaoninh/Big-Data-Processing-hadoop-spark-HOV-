{
 "cells": [
  {
   "cell_type": "markdown",
   "metadata": {},
   "source": [
    "# Homework 2 - Higher Order Functions (10 pts)\n",
    "\n",
    "In this homework, we will practice Python's higher order functions. Please note that you may only use higher order functions **without access to global variables**. Your expression should contain only **map()**, **filter()**, **sorted**, **reduce()** and your custom functions.\n",
    "\n",
    "You are required to turn in this notebook with all the parts filled in between <>. Your notebook must be named BDM\\_HW2\\_HOF_NetID.ipynb.\n",
    "\n",
    "We will be using the provided the Graduation Outcomes data set for cohorts from 2001 through 2006 (Classes of 2005 through 2010) from the NYC Department of Education (the data handle on NYC Open Data is **avir-tzek**). The data is available on online as **nyc_grads.csv**."
   ]
  },
  {
   "cell_type": "markdown",
   "metadata": {},
   "source": [
    "#### The first ten records of the data are shown below. Please note, the data are sorted by \"Demographics\", then \"Borough\", then \"Cohort\"."
   ]
  },
  {
   "cell_type": "code",
   "execution_count": 1,
   "metadata": {},
   "outputs": [],
   "source": [
    "import csv\n",
    "from functools import reduce"
   ]
  },
  {
   "cell_type": "markdown",
   "metadata": {},
   "source": [
    "## Task 1 (3 points)\n",
    "\n",
    "In this data set, we would like to inspect whether there is a correlation between the dropped out percentage and the percentage of students graduated with advanced regents for schools in NYC. Thus, we must compute the ratio of **Dropped Out** and **Advanced Regents** for each borough, and for each year by dividing them by the **Total Cohort** value. Thus, the only useful records for us are those with the **Demographic** value equals to **'Borough Total'**, aka. you must filter the data to this type of demographic first.\n",
    "\n",
    "Please complete the HOF expression below to transform each input record into a tuple of only 4 elements: **Borough**, **Cohort**, **Ratio_Advanced**, **Ratio_Dropped**. Note that, your expression must user **reader** as input. Though you are encouraged to write your helper functions (instead of lambdas) to make your expression concise, global variables are absolutely not allowed. No exception. The output must be exactly as below."
   ]
  },
  {
   "cell_type": "code",
   "execution_count": 2,
   "metadata": {},
   "outputs": [
    {
     "data": {
      "text/plain": [
       "[('Bronx', '2001', 0.08713874094123811, 0.21286999039552956),\n",
       " ('Bronx', '2002', 0.08244680851063829, 0.1778590425531915),\n",
       " ('Bronx', '2003', 0.09206279342723005, 0.1813380281690141),\n",
       " ('Bronx', '2004', 0.09711779448621553, 0.16033138401559455),\n",
       " ('Bronx', '2005', 0.10174629324546952, 0.1414827018121911),\n",
       " ('Bronx', '2006', 0.10000641889723345, 0.1541819115475961),\n",
       " ('Brooklyn', '2001', 0.14172636641450828, 0.1776965081909724),\n",
       " ('Brooklyn', '2002', 0.1376874279123414, 0.16190888119953864),\n",
       " ('Brooklyn', '2003', 0.15182338051935876, 0.14990156557607576),\n",
       " ('Brooklyn', '2004', 0.1673600858945108, 0.13300228157294322),\n",
       " ('Brooklyn', '2005', 0.16201692714164168, 0.11544489722806861),\n",
       " ('Brooklyn', '2006', 0.1676060783694819, 0.12314560129864274),\n",
       " ('Manhattan', '2001', 0.14609313338595106, 0.1548539857932123),\n",
       " ('Manhattan', '2002', 0.13904776052885687, 0.1294659436975414),\n",
       " ('Manhattan', '2003', 0.18207363642913754, 0.1245766986094099),\n",
       " ('Manhattan', '2004', 0.18582666754809282, 0.12176902227804588),\n",
       " ('Manhattan', '2005', 0.1687180458246544, 0.10080161585558291),\n",
       " ('Manhattan', '2006', 0.16940789473684212, 0.10258284600389864),\n",
       " ('Queens', '2001', 0.15836811474927986, 0.15848568573276114),\n",
       " ('Queens', '2002', 0.15534990691052458, 0.15419997809659403),\n",
       " ('Queens', '2003', 0.18436057561770297, 0.14759706760792832),\n",
       " ('Queens', '2004', 0.19246995994659546, 0.13377837116154873),\n",
       " ('Queens', '2005', 0.1854338578237917, 0.12480139408538773),\n",
       " ('Queens', '2006', 0.18595970958175684, 0.11534921771142244),\n",
       " ('Staten Island', '2001', 0.2262396694214876, 0.10769628099173553),\n",
       " ('Staten Island', '2002', 0.20827285921625543, 0.10304789550072568),\n",
       " ('Staten Island', '2003', 0.20934091986723566, 0.08866761498340446),\n",
       " ('Staten Island', '2004', 0.248430709802028, 0.09198454852728151),\n",
       " ('Staten Island', '2005', 0.2374439461883408, 0.08116591928251121),\n",
       " ('Staten Island', '2006', 0.25896154681729305, 0.08994134260265045)]"
      ]
     },
     "execution_count": 2,
     "metadata": {},
     "output_type": "execute_result"
    }
   ],
   "source": [
    "def mapper_ratios(reader):\n",
    "    adv_ratio = int(reader['Advanced Regents'])/int(reader['Total Cohort'])\n",
    "    drop_ratio = int(reader['Dropped Out'])/int(reader['Total Cohort'])\n",
    "    \n",
    "    return (reader['Borough'],reader['Cohort'],adv_ratio,drop_ratio)\n",
    "\n",
    "with open('nyc_grads.csv', 'r') as fi:\n",
    "    reader = csv.DictReader(fi)\n",
    "    output1 =list(map(mapper_ratios,filter(lambda x: x['Demographic']=='Borough Total', reader)))\n",
    "\n",
    "output1"
   ]
  },
  {
   "cell_type": "markdown",
   "metadata": {},
   "source": [
    "\n",
    "## Task 2 (3 points)\n",
    "\n",
    "Now given *output1* from Task 1, we need to compute the average ratio of dropped out and advanced regents per borough (i.e. averaging the numbers from 2001 to 2006 for each borough). Please complete the HOF expression below. Your output should be similar to the one provided. Your input is **output1**.\n",
    "\n",
    "Note: If you could not finish Task 1, you could use the output information above as input to your Task 2. Please try to use the least memory possible for this task."
   ]
  },
  {
   "cell_type": "code",
   "execution_count": 3,
   "metadata": {},
   "outputs": [
    {
     "data": {
      "text/plain": [
       "[('Bronx', 0.0934198082513375, 0.17134384308218617),\n",
       " ('Brooklyn', 0.15470337770864048, 0.14351662251104022),\n",
       " ('Manhattan', 0.16519452307558916, 0.1223416853729485),\n",
       " ('Queens', 0.1769903541049419, 0.13903528573260707),\n",
       " ('Staten Island', 0.23144827521877342, 0.09375060031471814)]"
      ]
     },
     "execution_count": 3,
     "metadata": {},
     "output_type": "execute_result"
    }
   ],
   "source": [
    "def reducer_sum_all(d,output1):\n",
    "    if output1[0] not in d.keys(): \n",
    "        d[output1[0]]=[output1[2],output1[3]]\n",
    "    else:\n",
    "        d[output1[0]][0]+=output1[2]\n",
    "        d[output1[0]][1]+=output1[3]\n",
    "    return d\n",
    "\n",
    "output2 = list(map(lambda d:(d[0],d[1][0]/6,d[1][1]/6),reduce(reducer_sum_all, output1, {}).items()))\n",
    "\n",
    "output2  "
   ]
  },
  {
   "cell_type": "markdown",
   "metadata": {
    "collapsed": true
   },
   "source": [
    "\n",
    "## Task 3 (4 points)\n",
    "\n",
    "In this task, you are asked to complete Homework 1 using only map(), filter(), reduce(), and/or sorted() higher-order functions. Note that, instead of writing to a CSV file, the output can be printed in the notebook, similar to what presented below (some differences in the output format are tolerable)."
   ]
  },
  {
   "cell_type": "code",
   "execution_count": 25,
   "metadata": {},
   "outputs": [
    {
     "ename": "TypeError",
     "evalue": "'NoneType' object is not subscriptable",
     "output_type": "error",
     "traceback": [
      "\u001b[0;31m---------------------------------------------------------------------------\u001b[0m",
      "\u001b[0;31mTypeError\u001b[0m                                 Traceback (most recent call last)",
      "\u001b[0;32m<ipython-input-25-33d2a8700593>\u001b[0m in \u001b[0;36m<module>\u001b[0;34m\u001b[0m\n\u001b[1;32m     31\u001b[0m \u001b[0;32mwith\u001b[0m \u001b[0mopen\u001b[0m\u001b[0;34m(\u001b[0m\u001b[0;34m'sale.csv'\u001b[0m\u001b[0;34m,\u001b[0m \u001b[0;34m'r'\u001b[0m\u001b[0;34m)\u001b[0m \u001b[0;32mas\u001b[0m \u001b[0mfi\u001b[0m\u001b[0;34m:\u001b[0m\u001b[0;34m\u001b[0m\u001b[0;34m\u001b[0m\u001b[0m\n\u001b[1;32m     32\u001b[0m     \u001b[0mreader\u001b[0m \u001b[0;34m=\u001b[0m \u001b[0mcsv\u001b[0m\u001b[0;34m.\u001b[0m\u001b[0mDictReader\u001b[0m\u001b[0;34m(\u001b[0m\u001b[0mfi\u001b[0m\u001b[0;34m)\u001b[0m\u001b[0;34m\u001b[0m\u001b[0;34m\u001b[0m\u001b[0m\n\u001b[0;32m---> 33\u001b[0;31m     \u001b[0moutput3\u001b[0m\u001b[0;34m=\u001b[0m\u001b[0mreduce\u001b[0m\u001b[0;34m(\u001b[0m\u001b[0mreducer\u001b[0m\u001b[0;34m,\u001b[0m\u001b[0mreader\u001b[0m\u001b[0;34m,\u001b[0m\u001b[0;34m[\u001b[0m\u001b[0;32mNone\u001b[0m\u001b[0;34m,\u001b[0m\u001b[0;34m{\u001b[0m\u001b[0;34m}\u001b[0m\u001b[0;34m]\u001b[0m\u001b[0;34m)\u001b[0m\u001b[0;34m\u001b[0m\u001b[0;34m\u001b[0m\u001b[0m\n\u001b[0m\u001b[1;32m     34\u001b[0m \u001b[0;34m\u001b[0m\u001b[0m\n\u001b[1;32m     35\u001b[0m \u001b[0moutput3\u001b[0m\u001b[0;34m\u001b[0m\u001b[0;34m\u001b[0m\u001b[0m\n",
      "\u001b[0;32m<ipython-input-25-33d2a8700593>\u001b[0m in \u001b[0;36mreducer\u001b[0;34m(input, i)\u001b[0m\n\u001b[1;32m      2\u001b[0m \u001b[0;34m\u001b[0m\u001b[0m\n\u001b[1;32m      3\u001b[0m \u001b[0;32mdef\u001b[0m \u001b[0mreducer\u001b[0m\u001b[0;34m(\u001b[0m\u001b[0minput\u001b[0m\u001b[0;34m,\u001b[0m\u001b[0mi\u001b[0m\u001b[0;34m)\u001b[0m\u001b[0;34m:\u001b[0m\u001b[0;34m\u001b[0m\u001b[0;34m\u001b[0m\u001b[0m\n\u001b[0;32m----> 4\u001b[0;31m     \u001b[0;32mif\u001b[0m \u001b[0minput\u001b[0m\u001b[0;34m[\u001b[0m\u001b[0;36m0\u001b[0m\u001b[0;34m]\u001b[0m\u001b[0;34m!=\u001b[0m \u001b[0;32mNone\u001b[0m\u001b[0;34m:\u001b[0m\u001b[0;34m\u001b[0m\u001b[0;34m\u001b[0m\u001b[0m\n\u001b[0m\u001b[1;32m      5\u001b[0m         \u001b[0minput\u001b[0m\u001b[0;34m[\u001b[0m\u001b[0;36m1\u001b[0m\u001b[0;34m]\u001b[0m\u001b[0;34m[\u001b[0m\u001b[0mi\u001b[0m\u001b[0;34m[\u001b[0m\u001b[0;34m'Product ID'\u001b[0m\u001b[0;34m]\u001b[0m\u001b[0;34m]\u001b[0m\u001b[0;34m=\u001b[0m\u001b[0;34m[\u001b[0m\u001b[0;36m1\u001b[0m\u001b[0;34m,\u001b[0m\u001b[0mfloat\u001b[0m\u001b[0;34m(\u001b[0m\u001b[0mi\u001b[0m\u001b[0;34m[\u001b[0m\u001b[0;34m'Item Cost'\u001b[0m\u001b[0;34m]\u001b[0m\u001b[0;34m)\u001b[0m\u001b[0;34m]\u001b[0m\u001b[0;34m\u001b[0m\u001b[0;34m\u001b[0m\u001b[0m\n\u001b[1;32m      6\u001b[0m         \u001b[0mlast\u001b[0m \u001b[0;34m=\u001b[0m \u001b[0mi\u001b[0m\u001b[0;34m[\u001b[0m\u001b[0;34m'Customer ID'\u001b[0m\u001b[0;34m]\u001b[0m\u001b[0;34m\u001b[0m\u001b[0;34m\u001b[0m\u001b[0m\n",
      "\u001b[0;31mTypeError\u001b[0m: 'NoneType' object is not subscriptable"
     ]
    }
   ],
   "source": [
    "import csv\n",
    "\n",
    "def reducers(input,i):\n",
    "    if input[0]!= None:\n",
    "        input[1][i['Product ID']]=[1,float(i['Item Cost'])]\n",
    "        last = i['Customer ID']\n",
    "        c=set()\n",
    "        c.add(i['Product ID'])\n",
    "            \n",
    "    if i['Customer ID']== input[0]:\n",
    "        if i['Product ID']not in input[1].keys():\n",
    "            input[1][i['Product ID']]=[1,float(i['Item Cost'])]\n",
    "        elif i['Product ID'] not in c:\n",
    "            input[1][i['Product ID']][1]+=float(i['Item Cost'])\n",
    "            input[1][i['Product ID']][0]+=1\n",
    "            c.add(i['Product ID'])\n",
    "        else:\n",
    "            input[1][i['Product ID']][1]+=float(i['Item Cost'])\n",
    "                \n",
    "    else:\n",
    "        if i['Product ID']in input[1].keys():\n",
    "            input[1][i['Product ID']][1]+=float(i['Item Cost'])\n",
    "            input[1][i['Product ID']][0]+=1\n",
    "        else:\n",
    "            input[1][i['Product ID']]=[1,float(i['Item Cost'])]\n",
    "        last = i['Customer ID']\n",
    "        c=set()\n",
    "        c.add(i['Product ID'])\n",
    "            \n",
    "\n",
    "with open('sale.csv', 'r') as fi:\n",
    "    reader = csv.DictReader(fi) \n",
    "    output3=reduce(reducer,reader,[None,{}])\n",
    "            \n",
    "output3        "
   ]
  },
  {
   "cell_type": "code",
   "execution_count": 28,
   "metadata": {},
   "outputs": [
    {
     "name": "stdout",
     "output_type": "stream",
     "text": [
      "1 17.98\n",
      "1 43.97\n",
      "1 19.99\n",
      "1 15.99\n",
      "1 1.99\n",
      "1 9.99\n",
      "1 7.99\n",
      "2 27.97\n",
      "1 1.99\n",
      "2 32.98\n",
      "1 20.99\n",
      "2 18.979999999999997\n",
      "2 96.90999999999998\n",
      "2 66.94\n",
      "1 28.96\n",
      "2 46.96\n",
      "3 51.96\n",
      "3 20.969999999999995\n",
      "2 14.98\n",
      "2 20.98\n",
      "3 38.95\n",
      "3 180.85000000000002\n",
      "2 83.94\n",
      "3 88.91999999999999\n",
      "4 52.95\n",
      "3 66.95\n",
      "2 41.940000000000005\n",
      "4 58.94\n",
      "3 17.97\n",
      "3 56.94\n",
      "4 104.87999999999998\n",
      "4 215.81000000000006\n",
      "3 140.89\n",
      "4 170.87\n",
      "5 151.84999999999997\n",
      "3 95.87999999999998\n",
      "4 132.89\n",
      "5 166.84\n",
      "4 80.91999999999999\n",
      "4 77.91999999999999\n",
      "5 177.81000000000003\n",
      "5 264.7700000000001\n",
      "4 201.84000000000003\n",
      "5 180.84000000000003\n",
      "4 146.82999999999998\n",
      "6 231.79000000000005\n",
      "5 124.86999999999996\n",
      "5 120.85999999999996\n",
      "6 250.7300000000001\n",
      "6 377.6700000000002\n",
      "5 309.7400000000001\n",
      "6 252.7600000000001\n",
      "5 253.72000000000008\n",
      "6 257.74000000000007\n",
      "5 176.84000000000003\n",
      "6 268.7300000000001\n",
      "7 351.66000000000014\n",
      "6 269.71000000000004\n",
      "7 418.6000000000002\n",
      "7 573.4900000000004\n",
      "6 418.6400000000002\n",
      "7 328.6600000000002\n",
      "7 357.64000000000016\n",
      "6 381.69000000000017\n",
      "6 314.63000000000017\n",
      "7 395.6200000000002\n",
      "8 399.6100000000002\n",
      "7 432.57000000000016\n",
      "8 578.5000000000002\n",
      "8 669.3900000000004\n",
      "7 491.5500000000003\n",
      "8 385.62000000000023\n",
      "7 439.5100000000003\n",
      "8 458.52000000000027\n",
      "7 531.5700000000003\n",
      "9 540.4800000000002\n",
      "8 519.5200000000002\n",
      "8 575.4400000000003\n",
      "9 668.4200000000003\n",
      "9 784.3000000000005\n",
      "8 632.4500000000004\n",
      "9 455.5700000000003\n",
      "9 508.4600000000003\n",
      "8 643.4700000000004\n",
      "8 492.4600000000003\n",
      "9 617.4500000000003\n",
      "10 615.4100000000003\n",
      "9 635.3600000000004\n",
      "10 868.2400000000005\n",
      "10 952.1500000000007\n",
      "9 755.3500000000005\n",
      "10 596.4700000000004\n",
      "10 625.3200000000004\n",
      "9 698.2600000000004\n",
      "9 783.3500000000005\n",
      "10 739.3200000000004\n",
      "11 761.2700000000004\n",
      "10 734.2700000000004\n",
      "11 968.1500000000005\n",
      "11 1072.0600000000006\n",
      "10 900.2400000000006\n",
      "11 701.3700000000005\n",
      "10 772.1900000000005\n",
      "10 835.3000000000005\n",
      "11 652.2900000000004\n",
      "11 894.2100000000005\n",
      "12 824.2100000000005\n",
      "11 767.2300000000005\n",
      "12 1097.0300000000007\n",
      "12 1183.9600000000007\n",
      "11 1046.1000000000006\n",
      "12 786.3000000000005\n",
      "12 741.1900000000005\n",
      "11 889.2300000000006\n",
      "11 821.1400000000006\n",
      "12 996.1200000000006\n",
      "13 918.1100000000006\n",
      "12 821.1700000000005\n",
      "13 1152.9900000000007\n",
      "13 1269.8800000000008\n",
      "12 1071.0700000000006\n",
      "13 873.2200000000006\n",
      "13 841.1100000000006\n",
      "12 853.1100000000006\n",
      "13 1041.0800000000006\n",
      "14 979.0700000000006\n",
      "13 872.1400000000006\n",
      "14 1161.9700000000007\n",
      "14 1286.8700000000008\n",
      "13 1130.0200000000007\n",
      "14 942.1700000000006\n",
      "13 902.0600000000006\n",
      "12 921.2000000000006\n",
      "14 859.0900000000006\n",
      "14 1068.0600000000006\n",
      "15 993.0600000000006\n",
      "14 915.1000000000006\n",
      "15 1178.9600000000007\n",
      "15 1298.8500000000008\n",
      "14 1134.0100000000007\n",
      "15 961.1500000000007\n",
      "14 948.0300000000007\n",
      "13 951.1800000000006\n",
      "15 879.0800000000006\n",
      "16 1058.0100000000007\n",
      "15 1085.0500000000006\n",
      "15 931.0800000000006\n",
      "16 1194.9400000000007\n",
      "16 1328.8300000000008\n",
      "15 1180.9800000000007\n",
      "16 987.1200000000007\n",
      "16 933.0400000000006\n",
      "15 968.0100000000007\n",
      "14 966.1700000000006\n",
      "17 1081.9700000000007\n",
      "16 1117.0300000000007\n",
      "16 938.0600000000006\n",
      "17 1201.9300000000007\n",
      "17 1349.8200000000008\n",
      "16 1181.9700000000007\n",
      "16 980.0000000000007\n",
      "17 940.0300000000007\n"
     ]
    },
    {
     "data": {
      "text/plain": [
       "['9888781416',\n",
       " {'P19498', 'P32565', 'P33162', 'P39328', 'P61235', 'P76615', 'P82222'},\n",
       " {'P33162': 17,\n",
       "  'P02291': 16,\n",
       "  'P32565': 16,\n",
       "  'P61235': 17,\n",
       "  'P76615': 17,\n",
       "  'P39328': 16,\n",
       "  'P82222': 16,\n",
       "  'P58225': 17,\n",
       "  'P92449': 14,\n",
       "  'P19498': 16},\n",
       " {'P32565': 1006.0900000000007,\n",
       "  'P02291': 1181.9700000000007,\n",
       "  'P76615': 1087.9600000000007,\n",
       "  'P61235': 959.0200000000007,\n",
       "  'P82222': 950.0500000000006,\n",
       "  'P33162': 1210.9200000000008,\n",
       "  'P39328': 1129.0100000000007,\n",
       "  'P92449': 966.1700000000006,\n",
       "  'P58225': 1349.8200000000008,\n",
       "  'P19498': 989.9900000000007}]"
      ]
     },
     "execution_count": 28,
     "metadata": {},
     "output_type": "execute_result"
    }
   ],
   "source": [
    "def reducer(input,i):\n",
    "    #input=[last,currCust,customers,revenuew]\n",
    "    if i['Customer ID']!=input[0]:\n",
    "        if input[0]!= None:\n",
    "            for p in input[1]:\n",
    "                input[2][p] = input[2].get(p,0)+1\n",
    "                print(input[2][p],input[3][p])\n",
    "#                 input[2][p] = (input[2][p],input[3][p])\n",
    "            \n",
    "        else:\n",
    "            input[2] = {}\n",
    "            input[3] = {}\n",
    "        input[1] = set()\n",
    "        input[0]=i['Customer ID']\n",
    "    input[1].add(i['Product ID']) \n",
    "    input[3][i['Product ID']] =input[3].get(i['Product ID'],0)+float(i['Item Cost'])\n",
    "    return(input)\n",
    "        \n",
    "def mapper(input):\n",
    "    print(input)\n",
    "    for p in input[1]:\n",
    "        input[2] = input[2].get(p,0)+1 \n",
    "    \n",
    "    return ()\n",
    "\n",
    "with open('sale.csv', 'r') as fi:\n",
    "    reader = csv.DictReader(fi)       \n",
    "    \n",
    "    output3 =reduce(reducer,reader,[None,{},{},{}])\n",
    "    \n",
    "output3"
   ]
  },
  {
   "cell_type": "code",
   "execution_count": 36,
   "metadata": {},
   "outputs": [
    {
     "ename": "IndentationError",
     "evalue": "unindent does not match any outer indentation level (<tokenize>, line 6)",
     "output_type": "error",
     "traceback": [
      "\u001b[0;36m  File \u001b[0;32m\"<tokenize>\"\u001b[0;36m, line \u001b[0;32m6\u001b[0m\n\u001b[0;31m    for p in input[1]:\u001b[0m\n\u001b[0m    ^\u001b[0m\n\u001b[0;31mIndentationError\u001b[0m\u001b[0;31m:\u001b[0m unindent does not match any outer indentation level\n"
     ]
    }
   ],
   "source": [
    "           \n",
    "def reducer(input,i):\n",
    "    #input=[last,currCust,customers,revenuew]\n",
    "    if i['Customer ID']!=input[0]:\n",
    "        if input[0]!= None:\n",
    "            for p in input[1]:\n",
    "                input[2][p] = input[2].get(p,0)+1\n",
    "                print(input[2][p],input[3][p])\n",
    "\n",
    "            \n",
    "        else:\n",
    "            input[2] = {}\n",
    "            input[3] = {}\n",
    "        input[1] = set()\n",
    "        input[0]=i['Customer ID']\n",
    "    input[1].add(i['Product ID']) \n",
    "    input[3][i['Product ID']] =input[3].get(i['Product ID'],0)+float(i['Item Cost'])\n",
    "    return(input)\n",
    "\n",
    "\n",
    "with open('sale.csv', 'r') as fi:\n",
    "    reader = csv.DictReader(fi)       \n",
    "    \n",
    "    output3 =reduce(reducer,reader,[None,{},{}])\n",
    "    \n",
    "output3"
   ]
  },
  {
   "cell_type": "code",
   "execution_count": null,
   "metadata": {},
   "outputs": [],
   "source": [
    "for i in output3[2]:\n",
    "    if i in output3[1]:\n",
    "        output3[2][i]+=1 \n",
    "    output3[2][i]= output3[2][i],output3[3][i]\n",
    "\n",
    "sorted(output3[2].items())"
   ]
  },
  {
   "cell_type": "code",
   "execution_count": null,
   "metadata": {},
   "outputs": [],
   "source": [
    "for i in list(output3[1]):\n",
    "    output3[2][i]+=1\n",
    "    \n",
    "output3[2]\n",
    "\n",
    "output3[2][i]= output3[2][i],output3[3][i]\n",
    "k[i]= output3[2][i],output3[3][i]"
   ]
  },
  {
   "cell_type": "code",
   "execution_count": null,
   "metadata": {},
   "outputs": [],
   "source": [
    "def reducer1(output,lastcust):\n",
    "    print(output[2][lastcust])\n",
    "    output[2][lastcust]+=1\n",
    "    return output\n",
    "\n",
    "\n",
    "\n",
    "result = reduce(reducer1,output3[1],output3)\n",
    "result"
   ]
  },
  {
   "cell_type": "code",
   "execution_count": null,
   "metadata": {},
   "outputs": [],
   "source": [
    "k={}\n",
    "for i in sorted(output3[2].keys()):\n",
    "    output3[2][i]= output3[2][i],output3[3][i]\n",
    "    k[i]= output3[2][i],output3[3][i]\n",
    "\n",
    "sorted(output3[2].items())"
   ]
  },
  {
   "cell_type": "code",
   "execution_count": null,
   "metadata": {},
   "outputs": [],
   "source": [
    "k"
   ]
  },
  {
   "cell_type": "code",
   "execution_count": null,
   "metadata": {},
   "outputs": [],
   "source": [
    "output"
   ]
  }
 ],
 "metadata": {
  "kernelspec": {
   "display_name": "Python 3",
   "language": "python",
   "name": "python3"
  },
  "language_info": {
   "codemirror_mode": {
    "name": "ipython",
    "version": 3
   },
   "file_extension": ".py",
   "mimetype": "text/x-python",
   "name": "python",
   "nbconvert_exporter": "python",
   "pygments_lexer": "ipython3",
   "version": "3.7.1"
  }
 },
 "nbformat": 4,
 "nbformat_minor": 1
}
